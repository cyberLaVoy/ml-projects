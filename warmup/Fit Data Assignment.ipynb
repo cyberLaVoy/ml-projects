{
 "cells": [
  {
   "cell_type": "markdown",
   "metadata": {},
   "source": [
    "#### Author: Brenten Canfield, Spring 2019\\\n",
    "\n",
    "Directly below is the code used for model creation and analysis. Below that is the actual analysis of the results."
   ]
  },
  {
   "cell_type": "code",
   "execution_count": 1,
   "metadata": {},
   "outputs": [],
   "source": [
    "import numpy as np\n",
    "import pandas as pd\n",
    "import sklearn.model_selection\n",
    "import sklearn.preprocessing\n",
    "import sklearn.linear_model\n",
    "import sklearn.metrics\n",
    "from prettytable import PrettyTable\n",
    "from joblib import dump, load\n",
    "\n",
    "def loadData( fileName ):\n",
    "    return pd.read_csv(fileName, index_col=0)\n",
    "\n",
    "def separatePredictorsAndLabels( data ):\n",
    "    predictors = data.drop(\"labels\", axis=1)\n",
    "    labels = data[\"labels\"].copy()\n",
    "    return predictors, labels\n",
    "\n",
    "def getScaler(predictors):\n",
    "    scaler = sklearn.preprocessing.StandardScaler()\n",
    "    scaler.fit(predictors.astype(\"float64\"))\n",
    "    return scaler\n",
    "def scaleData(data, scaler):\n",
    "    data = data.astype(\"float64\")\n",
    "    data = scaler.transform(data)\n",
    "    return data\n",
    "    \n",
    "def trainModel(predictors, labels):\n",
    "    model = sklearn.linear_model.LinearRegression()\n",
    "    model.fit(predictors, labels)\n",
    "    return model\n",
    "\n",
    "def errorTest(predictors, labels, model):\n",
    "    predictedLabels = model.predict(predictors)\n",
    "    meanSquaredError = sklearn.metrics.mean_squared_error(labels, predictedLabels)\n",
    "    rootMeanSquaredError = np.sqrt(meanSquaredError)\n",
    "    return meanSquaredError, rootMeanSquaredError\n",
    "\n",
    "def displayResults(model, MSE, RMSE):\n",
    "    headers = [\"X\", \"Theta\", \"Theta Value\"]\n",
    "    table = PrettyTable(headers)\n",
    "    for i in range(len(model.coef_)):\n",
    "        x = \"x_\" + str(i+1)\n",
    "        theta = \"Theta_\" + str(i+1)\n",
    "        value = model.coef_[i]\n",
    "        table.add_row([x, theta, value])\n",
    "    print(table)\n",
    "    print(\"Y-intercept:\", model.intercept_)\n",
    "    print(\"Mean Squared Error:\", MSE)\n",
    "    print(\"Root Mean Squared Error:\", RMSE)\n",
    "\n",
    "def saveModel(model, fileName):\n",
    "    dump(model, fileName) \n",
    "def loadModel(fileName):\n",
    "    return load(fileName)\n",
    "\n",
    "def report( ):\n",
    "    trainData = loadData( \"train-data.csv\" )\n",
    "    trainXraw, trainY = separatePredictorsAndLabels( trainData )\n",
    "    scaler = getScaler(trainXraw)\n",
    "    trainX = scaleData(trainXraw, scaler)\n",
    "    model = trainModel( trainX, trainY )\n",
    "    \n",
    "    testData = loadData( \"test-data.csv\" )\n",
    "    testXraw, testY = separatePredictorsAndLabels( testData )\n",
    "    testX = scaleData(testXraw, scaler)\n",
    "    MSE, RMSE = errorTest( testX, testY, model )\n",
    "    \n",
    "    displayResults(model, MSE, RMSE)\n",
    "    return model\n",
    "\n",
    "def reportWithModel(model):\n",
    "    trainData = loadData( \"train-data.csv\" )\n",
    "    trainXraw, trainY = separatePredictorsAndLabels( trainData )\n",
    "    scaler = getScaler(trainXraw)\n",
    "    \n",
    "    testData = loadData( \"test-data.csv\" )\n",
    "    testXraw, testY = separatePredictorsAndLabels( testData )\n",
    "    testX = scaleData(testXraw, scaler)\n",
    "    MSE, RMSE = errorTest( testX, testY, model )\n",
    "    \n",
    "    displayResults(model, MSE, RMSE)\n",
    "    "
   ]
  },
  {
   "cell_type": "code",
   "execution_count": 2,
   "metadata": {},
   "outputs": [
    {
     "name": "stdout",
     "output_type": "stream",
     "text": [
      "+-----+---------+---------------------+\n",
      "|  X  |  Theta  |     Theta Value     |\n",
      "+-----+---------+---------------------+\n",
      "| x_1 | Theta_1 | -18.326866848615648 |\n",
      "| x_2 | Theta_2 | -60.488285226256664 |\n",
      "| x_3 | Theta_3 | -0.5002880659381503 |\n",
      "| x_4 | Theta_4 | 0.44341680815857387 |\n",
      "| x_5 | Theta_5 | -16.201565565095663 |\n",
      "| x_6 | Theta_6 | -44.768884944380105 |\n",
      "| x_7 | Theta_7 | -205.20882017371724 |\n",
      "+-----+---------+---------------------+\n",
      "Y-intercept: -1307.7683466494066\n",
      "Mean Squared Error: 465.8066694026524\n",
      "Root Mean Squared Error: 21.582554746893436\n"
     ]
    }
   ],
   "source": [
    "# display report and get model\n",
    "model = report()\n",
    "# save model with joblib\n",
    "saveModel(model, \"linear.joblib\")"
   ]
  },
  {
   "cell_type": "markdown",
   "metadata": {},
   "source": [
    "#### Previous predictions on feature to label correlation\n",
    "\n",
    "- x_1: Mostly uniform, with little to no correlation\n",
    "- x_2: A slight negative correlation\n",
    "- x_3: Similar to X1, with little to no correlation\n",
    "- x_4: Mostly a clustered blob, no correlation   \n",
    "- x_5: Similar to X1 and X3, wwith little to no correlation   \n",
    "- x_6: A blob like cluster with a slight negative correlation\n",
    "- x_7: A negatively correlated line, with noise along line\n",
    "\n",
    "#### Actual importance analysis\\\n",
    "\n",
    "The table above provides the actual relevance of each feature for label prediction. The magnitude of the each theta value gives us how import each feature is. Furthermore, a negative theta value shows a negative correlation, and vise-versa. Below is my analysis of each feature, comparing my visual estimate to the actual result of theta values.\n",
    "   \n",
    "- x_1: There is more correlation than previously predicted. There is a negative correlation.\n",
    "- x_2: This is the second most relevant feature, with a negative correlation.\n",
    "- x_3: There is indeed little to no correlation with this feature. Although less than x_1.\n",
    "- x_4: Prediction was acturate. There is basically no correlation.\n",
    "- x_5: This feature has less relevance than x_1 and x_3.\n",
    "- x_6: Prediction was fairly acturate, with a slight negative correlation.\n",
    "- x_7: With this being the most relevant feature, the prediction was correct.\n",
    "\n",
    "In summery, my predictions were fairly acurate. Although there were some features that turned out to be more relevant than expects, especially feature x_1."
   ]
  },
  {
   "cell_type": "code",
   "execution_count": 3,
   "metadata": {},
   "outputs": [
    {
     "name": "stdout",
     "output_type": "stream",
     "text": [
      "+-----+---------+---------------------+\n",
      "|  X  |  Theta  |     Theta Value     |\n",
      "+-----+---------+---------------------+\n",
      "| x_1 | Theta_1 | -18.326866848615648 |\n",
      "| x_2 | Theta_2 | -60.488285226256664 |\n",
      "| x_3 | Theta_3 | -0.5002880659381503 |\n",
      "| x_4 | Theta_4 | 0.44341680815857387 |\n",
      "| x_5 | Theta_5 | -16.201565565095663 |\n",
      "| x_6 | Theta_6 | -44.768884944380105 |\n",
      "| x_7 | Theta_7 | -205.20882017371724 |\n",
      "+-----+---------+---------------------+\n",
      "Y-intercept: -1307.7683466494066\n",
      "Mean Squared Error: 465.8066694026524\n",
      "Root Mean Squared Error: 21.582554746893436\n"
     ]
    }
   ],
   "source": [
    "# test model load and use\n",
    "model = loadModel(\"linear.joblib\")\n",
    "reportWithModel(model)"
   ]
  },
  {
   "cell_type": "markdown",
   "metadata": {},
   "source": [
    "As we can see the model successfully saved, and can be used to attain the exact same results as before."
   ]
  },
  {
   "cell_type": "code",
   "execution_count": null,
   "metadata": {},
   "outputs": [],
   "source": []
  }
 ],
 "metadata": {
  "kernelspec": {
   "display_name": "Python 3",
   "language": "python",
   "name": "python3"
  },
  "language_info": {
   "codemirror_mode": {
    "name": "ipython",
    "version": 3
   },
   "file_extension": ".py",
   "mimetype": "text/x-python",
   "name": "python",
   "nbconvert_exporter": "python",
   "pygments_lexer": "ipython3",
   "version": "3.5.2"
  }
 },
 "nbformat": 4,
 "nbformat_minor": 2
}
